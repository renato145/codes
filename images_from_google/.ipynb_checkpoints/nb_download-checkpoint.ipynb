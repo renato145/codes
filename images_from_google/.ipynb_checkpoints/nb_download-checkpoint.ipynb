{
 "cells": [
  {
   "cell_type": "code",
   "execution_count": 1,
   "metadata": {},
   "outputs": [],
   "source": [
    "import requests, os\n",
    "from pathlib import Path\n",
    "from concurrent.futures import ThreadPoolExecutor\n",
    "from functools import partial"
   ]
  },
  {
   "cell_type": "code",
   "execution_count": 2,
   "metadata": {},
   "outputs": [],
   "source": [
    "path = Path('/home/renato/temp/grab_google_imgs_test')"
   ]
  },
  {
   "cell_type": "code",
   "execution_count": 3,
   "metadata": {},
   "outputs": [
    {
     "name": "stdout",
     "output_type": "stream",
     "text": [
      "Valid urls: 578\n",
      "Non repeated urls: 554\n"
     ]
    }
   ],
   "source": [
    "urls_files = [f for f in path.iterdir() if f.suffix == '.txt']\n",
    "\n",
    "def get_lines(x):\n",
    "    with open(x) as f:\n",
    "        return f.readlines()\n",
    "    \n",
    "def download(x, path):\n",
    "    ok = 0\n",
    "    r = requests.get(x)\n",
    "    fn = x.split('/')[-1]\n",
    "    \n",
    "    if r.status_code == requests.codes.ok:\n",
    "        with open(path / fn, 'wb') as f:\n",
    "            f.write(r.content)\n",
    "        ok = 1\n",
    "    \n",
    "    r.close()\n",
    "    return ok\n",
    "\n",
    "urls = {j.strip() for i in map(get_lines, urls_files) for j in i if len(j.split('.')[-1]) in [3,4]}\n",
    "print(f'Valid urls: {len(urls)}')\n",
    "urls = [i for i in urls if i.split('/')[-1] not in os.listdir(path)]\n",
    "print(f'Non repeated urls: {len(urls)}')\n",
    "\n",
    "with ThreadPoolExecutor(8) as ex:\n",
    "    res = list(ex.map(partial(download, path=path), urls))\n",
    "    \n",
    "print(f'Downloaded images: {sum(res)}')"
   ]
  },
  {
   "cell_type": "code",
   "execution_count": null,
   "metadata": {},
   "outputs": [],
   "source": []
  },
  {
   "cell_type": "code",
   "execution_count": null,
   "metadata": {},
   "outputs": [],
   "source": []
  },
  {
   "cell_type": "code",
   "execution_count": null,
   "metadata": {},
   "outputs": [],
   "source": []
  }
 ],
 "metadata": {
  "kernelspec": {
   "display_name": "Python 3",
   "language": "python",
   "name": "python3"
  },
  "language_info": {
   "codemirror_mode": {
    "name": "ipython",
    "version": 3
   },
   "file_extension": ".py",
   "mimetype": "text/x-python",
   "name": "python",
   "nbconvert_exporter": "python",
   "pygments_lexer": "ipython3",
   "version": "3.6.4"
  }
 },
 "nbformat": 4,
 "nbformat_minor": 2
}
